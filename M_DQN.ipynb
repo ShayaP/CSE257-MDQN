{
  "nbformat": 4,
  "nbformat_minor": 0,
  "metadata": {
    "kernelspec": {
      "display_name": "Python 3",
      "language": "python",
      "name": "python3"
    },
    "language_info": {
      "codemirror_mode": {
        "name": "ipython",
        "version": 3
      },
      "file_extension": ".py",
      "mimetype": "text/x-python",
      "name": "python",
      "nbconvert_exporter": "python",
      "pygments_lexer": "ipython3",
      "version": "3.7.4"
    },
    "colab": {
      "name": "M-DQN.ipynb",
      "provenance": [],
      "collapsed_sections": []
    }
  },
  "cells": [
    {
      "cell_type": "code",
      "metadata": {
        "colab": {
          "base_uri": "https://localhost:8080/"
        },
        "id": "Pmu2SVTELZUk",
        "outputId": "7e7937fd-6c56-48cc-a0f7-4ed6ebc8b3b3"
      },
      "source": [
        "!pip3 install box2d-py"
      ],
      "execution_count": 1,
      "outputs": [
        {
          "output_type": "stream",
          "text": [
            "Collecting box2d-py\n",
            "\u001b[?25l  Downloading https://files.pythonhosted.org/packages/87/34/da5393985c3ff9a76351df6127c275dcb5749ae0abbe8d5210f06d97405d/box2d_py-2.3.8-cp37-cp37m-manylinux1_x86_64.whl (448kB)\n",
            "\r\u001b[K     |▊                               | 10kB 14.5MB/s eta 0:00:01\r\u001b[K     |█▌                              | 20kB 20.0MB/s eta 0:00:01\r\u001b[K     |██▏                             | 30kB 24.4MB/s eta 0:00:01\r\u001b[K     |███                             | 40kB 21.8MB/s eta 0:00:01\r\u001b[K     |███▋                            | 51kB 10.9MB/s eta 0:00:01\r\u001b[K     |████▍                           | 61kB 11.3MB/s eta 0:00:01\r\u001b[K     |█████▏                          | 71kB 9.6MB/s eta 0:00:01\r\u001b[K     |█████▉                          | 81kB 10.2MB/s eta 0:00:01\r\u001b[K     |██████▋                         | 92kB 11.2MB/s eta 0:00:01\r\u001b[K     |███████▎                        | 102kB 10.0MB/s eta 0:00:01\r\u001b[K     |████████                        | 112kB 10.0MB/s eta 0:00:01\r\u001b[K     |████████▊                       | 122kB 10.0MB/s eta 0:00:01\r\u001b[K     |█████████▌                      | 133kB 10.0MB/s eta 0:00:01\r\u001b[K     |██████████▎                     | 143kB 10.0MB/s eta 0:00:01\r\u001b[K     |███████████                     | 153kB 10.0MB/s eta 0:00:01\r\u001b[K     |███████████▊                    | 163kB 10.0MB/s eta 0:00:01\r\u001b[K     |████████████▍                   | 174kB 10.0MB/s eta 0:00:01\r\u001b[K     |█████████████▏                  | 184kB 10.0MB/s eta 0:00:01\r\u001b[K     |█████████████▉                  | 194kB 10.0MB/s eta 0:00:01\r\u001b[K     |██████████████▋                 | 204kB 10.0MB/s eta 0:00:01\r\u001b[K     |███████████████▍                | 215kB 10.0MB/s eta 0:00:01\r\u001b[K     |████████████████                | 225kB 10.0MB/s eta 0:00:01\r\u001b[K     |████████████████▉               | 235kB 10.0MB/s eta 0:00:01\r\u001b[K     |█████████████████▌              | 245kB 10.0MB/s eta 0:00:01\r\u001b[K     |██████████████████▎             | 256kB 10.0MB/s eta 0:00:01\r\u001b[K     |███████████████████             | 266kB 10.0MB/s eta 0:00:01\r\u001b[K     |███████████████████▊            | 276kB 10.0MB/s eta 0:00:01\r\u001b[K     |████████████████████▌           | 286kB 10.0MB/s eta 0:00:01\r\u001b[K     |█████████████████████▏          | 296kB 10.0MB/s eta 0:00:01\r\u001b[K     |██████████████████████          | 307kB 10.0MB/s eta 0:00:01\r\u001b[K     |██████████████████████▋         | 317kB 10.0MB/s eta 0:00:01\r\u001b[K     |███████████████████████▍        | 327kB 10.0MB/s eta 0:00:01\r\u001b[K     |████████████████████████        | 337kB 10.0MB/s eta 0:00:01\r\u001b[K     |████████████████████████▉       | 348kB 10.0MB/s eta 0:00:01\r\u001b[K     |█████████████████████████▋      | 358kB 10.0MB/s eta 0:00:01\r\u001b[K     |██████████████████████████▎     | 368kB 10.0MB/s eta 0:00:01\r\u001b[K     |███████████████████████████     | 378kB 10.0MB/s eta 0:00:01\r\u001b[K     |███████████████████████████▊    | 389kB 10.0MB/s eta 0:00:01\r\u001b[K     |████████████████████████████▌   | 399kB 10.0MB/s eta 0:00:01\r\u001b[K     |█████████████████████████████▏  | 409kB 10.0MB/s eta 0:00:01\r\u001b[K     |██████████████████████████████  | 419kB 10.0MB/s eta 0:00:01\r\u001b[K     |██████████████████████████████▊ | 430kB 10.0MB/s eta 0:00:01\r\u001b[K     |███████████████████████████████▍| 440kB 10.0MB/s eta 0:00:01\r\u001b[K     |████████████████████████████████| 450kB 10.0MB/s \n",
            "\u001b[?25hInstalling collected packages: box2d-py\n",
            "Successfully installed box2d-py-2.3.8\n"
          ],
          "name": "stdout"
        }
      ]
    },
    {
      "cell_type": "code",
      "metadata": {
        "id": "cT_fv_5SGTg5"
      },
      "source": [
        "import torch\n",
        "import torch.nn as nn\n",
        "import numpy as np\n",
        "import torch.optim as optim\n",
        "import torch.nn.functional as F\n",
        "from torch.nn.utils import clip_grad_norm_\n",
        "import random\n",
        "import math\n",
        "from torch.utils.tensorboard import SummaryWriter\n",
        "from collections import deque, namedtuple\n",
        "import time\n",
        "import gym\n",
        "\n",
        "\n",
        "def weight_init(layers):\n",
        "    for layer in layers:\n",
        "        torch.nn.init.kaiming_normal_(layer.weight, nonlinearity='relu')"
      ],
      "execution_count": 2,
      "outputs": []
    },
    {
      "cell_type": "code",
      "metadata": {
        "id": "FgBoAw2kwbNP",
        "colab": {
          "base_uri": "https://localhost:8080/"
        },
        "outputId": "2460657f-597b-4855-cfa1-37ce908718b5"
      },
      "source": [
        "print(gym.envs.registry.all())"
      ],
      "execution_count": null,
      "outputs": [
        {
          "output_type": "stream",
          "text": [
            "dict_values([EnvSpec(Copy-v0), EnvSpec(RepeatCopy-v0), EnvSpec(ReversedAddition-v0), EnvSpec(ReversedAddition3-v0), EnvSpec(DuplicatedInput-v0), EnvSpec(Reverse-v0), EnvSpec(CartPole-v0), EnvSpec(CartPole-v1), EnvSpec(MountainCar-v0), EnvSpec(MountainCarContinuous-v0), EnvSpec(Pendulum-v0), EnvSpec(Acrobot-v1), EnvSpec(LunarLander-v2), EnvSpec(LunarLanderContinuous-v2), EnvSpec(BipedalWalker-v3), EnvSpec(BipedalWalkerHardcore-v3), EnvSpec(CarRacing-v0), EnvSpec(Blackjack-v0), EnvSpec(KellyCoinflip-v0), EnvSpec(KellyCoinflipGeneralized-v0), EnvSpec(FrozenLake-v0), EnvSpec(FrozenLake8x8-v0), EnvSpec(CliffWalking-v0), EnvSpec(NChain-v0), EnvSpec(Roulette-v0), EnvSpec(Taxi-v3), EnvSpec(GuessingGame-v0), EnvSpec(HotterColder-v0), EnvSpec(Reacher-v2), EnvSpec(Pusher-v2), EnvSpec(Thrower-v2), EnvSpec(Striker-v2), EnvSpec(InvertedPendulum-v2), EnvSpec(InvertedDoublePendulum-v2), EnvSpec(HalfCheetah-v2), EnvSpec(HalfCheetah-v3), EnvSpec(Hopper-v2), EnvSpec(Hopper-v3), EnvSpec(Swimmer-v2), EnvSpec(Swimmer-v3), EnvSpec(Walker2d-v2), EnvSpec(Walker2d-v3), EnvSpec(Ant-v2), EnvSpec(Ant-v3), EnvSpec(Humanoid-v2), EnvSpec(Humanoid-v3), EnvSpec(HumanoidStandup-v2), EnvSpec(FetchSlide-v1), EnvSpec(FetchPickAndPlace-v1), EnvSpec(FetchReach-v1), EnvSpec(FetchPush-v1), EnvSpec(HandReach-v0), EnvSpec(HandManipulateBlockRotateZ-v0), EnvSpec(HandManipulateBlockRotateZTouchSensors-v0), EnvSpec(HandManipulateBlockRotateZTouchSensors-v1), EnvSpec(HandManipulateBlockRotateParallel-v0), EnvSpec(HandManipulateBlockRotateParallelTouchSensors-v0), EnvSpec(HandManipulateBlockRotateParallelTouchSensors-v1), EnvSpec(HandManipulateBlockRotateXYZ-v0), EnvSpec(HandManipulateBlockRotateXYZTouchSensors-v0), EnvSpec(HandManipulateBlockRotateXYZTouchSensors-v1), EnvSpec(HandManipulateBlockFull-v0), EnvSpec(HandManipulateBlock-v0), EnvSpec(HandManipulateBlockTouchSensors-v0), EnvSpec(HandManipulateBlockTouchSensors-v1), EnvSpec(HandManipulateEggRotate-v0), EnvSpec(HandManipulateEggRotateTouchSensors-v0), EnvSpec(HandManipulateEggRotateTouchSensors-v1), EnvSpec(HandManipulateEggFull-v0), EnvSpec(HandManipulateEgg-v0), EnvSpec(HandManipulateEggTouchSensors-v0), EnvSpec(HandManipulateEggTouchSensors-v1), EnvSpec(HandManipulatePenRotate-v0), EnvSpec(HandManipulatePenRotateTouchSensors-v0), EnvSpec(HandManipulatePenRotateTouchSensors-v1), EnvSpec(HandManipulatePenFull-v0), EnvSpec(HandManipulatePen-v0), EnvSpec(HandManipulatePenTouchSensors-v0), EnvSpec(HandManipulatePenTouchSensors-v1), EnvSpec(FetchSlideDense-v1), EnvSpec(FetchPickAndPlaceDense-v1), EnvSpec(FetchReachDense-v1), EnvSpec(FetchPushDense-v1), EnvSpec(HandReachDense-v0), EnvSpec(HandManipulateBlockRotateZDense-v0), EnvSpec(HandManipulateBlockRotateZTouchSensorsDense-v0), EnvSpec(HandManipulateBlockRotateZTouchSensorsDense-v1), EnvSpec(HandManipulateBlockRotateParallelDense-v0), EnvSpec(HandManipulateBlockRotateParallelTouchSensorsDense-v0), EnvSpec(HandManipulateBlockRotateParallelTouchSensorsDense-v1), EnvSpec(HandManipulateBlockRotateXYZDense-v0), EnvSpec(HandManipulateBlockRotateXYZTouchSensorsDense-v0), EnvSpec(HandManipulateBlockRotateXYZTouchSensorsDense-v1), EnvSpec(HandManipulateBlockFullDense-v0), EnvSpec(HandManipulateBlockDense-v0), EnvSpec(HandManipulateBlockTouchSensorsDense-v0), EnvSpec(HandManipulateBlockTouchSensorsDense-v1), EnvSpec(HandManipulateEggRotateDense-v0), EnvSpec(HandManipulateEggRotateTouchSensorsDense-v0), EnvSpec(HandManipulateEggRotateTouchSensorsDense-v1), EnvSpec(HandManipulateEggFullDense-v0), EnvSpec(HandManipulateEggDense-v0), EnvSpec(HandManipulateEggTouchSensorsDense-v0), EnvSpec(HandManipulateEggTouchSensorsDense-v1), EnvSpec(HandManipulatePenRotateDense-v0), EnvSpec(HandManipulatePenRotateTouchSensorsDense-v0), EnvSpec(HandManipulatePenRotateTouchSensorsDense-v1), EnvSpec(HandManipulatePenFullDense-v0), EnvSpec(HandManipulatePenDense-v0), EnvSpec(HandManipulatePenTouchSensorsDense-v0), EnvSpec(HandManipulatePenTouchSensorsDense-v1), EnvSpec(Adventure-v0), EnvSpec(Adventure-v4), EnvSpec(AdventureDeterministic-v0), EnvSpec(AdventureDeterministic-v4), EnvSpec(AdventureNoFrameskip-v0), EnvSpec(AdventureNoFrameskip-v4), EnvSpec(Adventure-ram-v0), EnvSpec(Adventure-ram-v4), EnvSpec(Adventure-ramDeterministic-v0), EnvSpec(Adventure-ramDeterministic-v4), EnvSpec(Adventure-ramNoFrameskip-v0), EnvSpec(Adventure-ramNoFrameskip-v4), EnvSpec(AirRaid-v0), EnvSpec(AirRaid-v4), EnvSpec(AirRaidDeterministic-v0), EnvSpec(AirRaidDeterministic-v4), EnvSpec(AirRaidNoFrameskip-v0), EnvSpec(AirRaidNoFrameskip-v4), EnvSpec(AirRaid-ram-v0), EnvSpec(AirRaid-ram-v4), EnvSpec(AirRaid-ramDeterministic-v0), EnvSpec(AirRaid-ramDeterministic-v4), EnvSpec(AirRaid-ramNoFrameskip-v0), EnvSpec(AirRaid-ramNoFrameskip-v4), EnvSpec(Alien-v0), EnvSpec(Alien-v4), EnvSpec(AlienDeterministic-v0), EnvSpec(AlienDeterministic-v4), EnvSpec(AlienNoFrameskip-v0), EnvSpec(AlienNoFrameskip-v4), EnvSpec(Alien-ram-v0), EnvSpec(Alien-ram-v4), EnvSpec(Alien-ramDeterministic-v0), EnvSpec(Alien-ramDeterministic-v4), EnvSpec(Alien-ramNoFrameskip-v0), EnvSpec(Alien-ramNoFrameskip-v4), EnvSpec(Amidar-v0), EnvSpec(Amidar-v4), EnvSpec(AmidarDeterministic-v0), EnvSpec(AmidarDeterministic-v4), EnvSpec(AmidarNoFrameskip-v0), EnvSpec(AmidarNoFrameskip-v4), EnvSpec(Amidar-ram-v0), EnvSpec(Amidar-ram-v4), EnvSpec(Amidar-ramDeterministic-v0), EnvSpec(Amidar-ramDeterministic-v4), EnvSpec(Amidar-ramNoFrameskip-v0), EnvSpec(Amidar-ramNoFrameskip-v4), EnvSpec(Assault-v0), EnvSpec(Assault-v4), EnvSpec(AssaultDeterministic-v0), EnvSpec(AssaultDeterministic-v4), EnvSpec(AssaultNoFrameskip-v0), EnvSpec(AssaultNoFrameskip-v4), EnvSpec(Assault-ram-v0), EnvSpec(Assault-ram-v4), EnvSpec(Assault-ramDeterministic-v0), EnvSpec(Assault-ramDeterministic-v4), EnvSpec(Assault-ramNoFrameskip-v0), EnvSpec(Assault-ramNoFrameskip-v4), EnvSpec(Asterix-v0), EnvSpec(Asterix-v4), EnvSpec(AsterixDeterministic-v0), EnvSpec(AsterixDeterministic-v4), EnvSpec(AsterixNoFrameskip-v0), EnvSpec(AsterixNoFrameskip-v4), EnvSpec(Asterix-ram-v0), EnvSpec(Asterix-ram-v4), EnvSpec(Asterix-ramDeterministic-v0), EnvSpec(Asterix-ramDeterministic-v4), EnvSpec(Asterix-ramNoFrameskip-v0), EnvSpec(Asterix-ramNoFrameskip-v4), EnvSpec(Asteroids-v0), EnvSpec(Asteroids-v4), EnvSpec(AsteroidsDeterministic-v0), EnvSpec(AsteroidsDeterministic-v4), EnvSpec(AsteroidsNoFrameskip-v0), EnvSpec(AsteroidsNoFrameskip-v4), EnvSpec(Asteroids-ram-v0), EnvSpec(Asteroids-ram-v4), EnvSpec(Asteroids-ramDeterministic-v0), EnvSpec(Asteroids-ramDeterministic-v4), EnvSpec(Asteroids-ramNoFrameskip-v0), EnvSpec(Asteroids-ramNoFrameskip-v4), EnvSpec(Atlantis-v0), EnvSpec(Atlantis-v4), EnvSpec(AtlantisDeterministic-v0), EnvSpec(AtlantisDeterministic-v4), EnvSpec(AtlantisNoFrameskip-v0), EnvSpec(AtlantisNoFrameskip-v4), EnvSpec(Atlantis-ram-v0), EnvSpec(Atlantis-ram-v4), EnvSpec(Atlantis-ramDeterministic-v0), EnvSpec(Atlantis-ramDeterministic-v4), EnvSpec(Atlantis-ramNoFrameskip-v0), EnvSpec(Atlantis-ramNoFrameskip-v4), EnvSpec(BankHeist-v0), EnvSpec(BankHeist-v4), EnvSpec(BankHeistDeterministic-v0), EnvSpec(BankHeistDeterministic-v4), EnvSpec(BankHeistNoFrameskip-v0), EnvSpec(BankHeistNoFrameskip-v4), EnvSpec(BankHeist-ram-v0), EnvSpec(BankHeist-ram-v4), EnvSpec(BankHeist-ramDeterministic-v0), EnvSpec(BankHeist-ramDeterministic-v4), EnvSpec(BankHeist-ramNoFrameskip-v0), EnvSpec(BankHeist-ramNoFrameskip-v4), EnvSpec(BattleZone-v0), EnvSpec(BattleZone-v4), EnvSpec(BattleZoneDeterministic-v0), EnvSpec(BattleZoneDeterministic-v4), EnvSpec(BattleZoneNoFrameskip-v0), EnvSpec(BattleZoneNoFrameskip-v4), EnvSpec(BattleZone-ram-v0), EnvSpec(BattleZone-ram-v4), EnvSpec(BattleZone-ramDeterministic-v0), EnvSpec(BattleZone-ramDeterministic-v4), EnvSpec(BattleZone-ramNoFrameskip-v0), EnvSpec(BattleZone-ramNoFrameskip-v4), EnvSpec(BeamRider-v0), EnvSpec(BeamRider-v4), EnvSpec(BeamRiderDeterministic-v0), EnvSpec(BeamRiderDeterministic-v4), EnvSpec(BeamRiderNoFrameskip-v0), EnvSpec(BeamRiderNoFrameskip-v4), EnvSpec(BeamRider-ram-v0), EnvSpec(BeamRider-ram-v4), EnvSpec(BeamRider-ramDeterministic-v0), EnvSpec(BeamRider-ramDeterministic-v4), EnvSpec(BeamRider-ramNoFrameskip-v0), EnvSpec(BeamRider-ramNoFrameskip-v4), EnvSpec(Berzerk-v0), EnvSpec(Berzerk-v4), EnvSpec(BerzerkDeterministic-v0), EnvSpec(BerzerkDeterministic-v4), EnvSpec(BerzerkNoFrameskip-v0), EnvSpec(BerzerkNoFrameskip-v4), EnvSpec(Berzerk-ram-v0), EnvSpec(Berzerk-ram-v4), EnvSpec(Berzerk-ramDeterministic-v0), EnvSpec(Berzerk-ramDeterministic-v4), EnvSpec(Berzerk-ramNoFrameskip-v0), EnvSpec(Berzerk-ramNoFrameskip-v4), EnvSpec(Bowling-v0), EnvSpec(Bowling-v4), EnvSpec(BowlingDeterministic-v0), EnvSpec(BowlingDeterministic-v4), EnvSpec(BowlingNoFrameskip-v0), EnvSpec(BowlingNoFrameskip-v4), EnvSpec(Bowling-ram-v0), EnvSpec(Bowling-ram-v4), EnvSpec(Bowling-ramDeterministic-v0), EnvSpec(Bowling-ramDeterministic-v4), EnvSpec(Bowling-ramNoFrameskip-v0), EnvSpec(Bowling-ramNoFrameskip-v4), EnvSpec(Boxing-v0), EnvSpec(Boxing-v4), EnvSpec(BoxingDeterministic-v0), EnvSpec(BoxingDeterministic-v4), EnvSpec(BoxingNoFrameskip-v0), EnvSpec(BoxingNoFrameskip-v4), EnvSpec(Boxing-ram-v0), EnvSpec(Boxing-ram-v4), EnvSpec(Boxing-ramDeterministic-v0), EnvSpec(Boxing-ramDeterministic-v4), EnvSpec(Boxing-ramNoFrameskip-v0), EnvSpec(Boxing-ramNoFrameskip-v4), EnvSpec(Breakout-v0), EnvSpec(Breakout-v4), EnvSpec(BreakoutDeterministic-v0), EnvSpec(BreakoutDeterministic-v4), EnvSpec(BreakoutNoFrameskip-v0), EnvSpec(BreakoutNoFrameskip-v4), EnvSpec(Breakout-ram-v0), EnvSpec(Breakout-ram-v4), EnvSpec(Breakout-ramDeterministic-v0), EnvSpec(Breakout-ramDeterministic-v4), EnvSpec(Breakout-ramNoFrameskip-v0), EnvSpec(Breakout-ramNoFrameskip-v4), EnvSpec(Carnival-v0), EnvSpec(Carnival-v4), EnvSpec(CarnivalDeterministic-v0), EnvSpec(CarnivalDeterministic-v4), EnvSpec(CarnivalNoFrameskip-v0), EnvSpec(CarnivalNoFrameskip-v4), EnvSpec(Carnival-ram-v0), EnvSpec(Carnival-ram-v4), EnvSpec(Carnival-ramDeterministic-v0), EnvSpec(Carnival-ramDeterministic-v4), EnvSpec(Carnival-ramNoFrameskip-v0), EnvSpec(Carnival-ramNoFrameskip-v4), EnvSpec(Centipede-v0), EnvSpec(Centipede-v4), EnvSpec(CentipedeDeterministic-v0), EnvSpec(CentipedeDeterministic-v4), EnvSpec(CentipedeNoFrameskip-v0), EnvSpec(CentipedeNoFrameskip-v4), EnvSpec(Centipede-ram-v0), EnvSpec(Centipede-ram-v4), EnvSpec(Centipede-ramDeterministic-v0), EnvSpec(Centipede-ramDeterministic-v4), EnvSpec(Centipede-ramNoFrameskip-v0), EnvSpec(Centipede-ramNoFrameskip-v4), EnvSpec(ChopperCommand-v0), EnvSpec(ChopperCommand-v4), EnvSpec(ChopperCommandDeterministic-v0), EnvSpec(ChopperCommandDeterministic-v4), EnvSpec(ChopperCommandNoFrameskip-v0), EnvSpec(ChopperCommandNoFrameskip-v4), EnvSpec(ChopperCommand-ram-v0), EnvSpec(ChopperCommand-ram-v4), EnvSpec(ChopperCommand-ramDeterministic-v0), EnvSpec(ChopperCommand-ramDeterministic-v4), EnvSpec(ChopperCommand-ramNoFrameskip-v0), EnvSpec(ChopperCommand-ramNoFrameskip-v4), EnvSpec(CrazyClimber-v0), EnvSpec(CrazyClimber-v4), EnvSpec(CrazyClimberDeterministic-v0), EnvSpec(CrazyClimberDeterministic-v4), EnvSpec(CrazyClimberNoFrameskip-v0), EnvSpec(CrazyClimberNoFrameskip-v4), EnvSpec(CrazyClimber-ram-v0), EnvSpec(CrazyClimber-ram-v4), EnvSpec(CrazyClimber-ramDeterministic-v0), EnvSpec(CrazyClimber-ramDeterministic-v4), EnvSpec(CrazyClimber-ramNoFrameskip-v0), EnvSpec(CrazyClimber-ramNoFrameskip-v4), EnvSpec(Defender-v0), EnvSpec(Defender-v4), EnvSpec(DefenderDeterministic-v0), EnvSpec(DefenderDeterministic-v4), EnvSpec(DefenderNoFrameskip-v0), EnvSpec(DefenderNoFrameskip-v4), EnvSpec(Defender-ram-v0), EnvSpec(Defender-ram-v4), EnvSpec(Defender-ramDeterministic-v0), EnvSpec(Defender-ramDeterministic-v4), EnvSpec(Defender-ramNoFrameskip-v0), EnvSpec(Defender-ramNoFrameskip-v4), EnvSpec(DemonAttack-v0), EnvSpec(DemonAttack-v4), EnvSpec(DemonAttackDeterministic-v0), EnvSpec(DemonAttackDeterministic-v4), EnvSpec(DemonAttackNoFrameskip-v0), EnvSpec(DemonAttackNoFrameskip-v4), EnvSpec(DemonAttack-ram-v0), EnvSpec(DemonAttack-ram-v4), EnvSpec(DemonAttack-ramDeterministic-v0), EnvSpec(DemonAttack-ramDeterministic-v4), EnvSpec(DemonAttack-ramNoFrameskip-v0), EnvSpec(DemonAttack-ramNoFrameskip-v4), EnvSpec(DoubleDunk-v0), EnvSpec(DoubleDunk-v4), EnvSpec(DoubleDunkDeterministic-v0), EnvSpec(DoubleDunkDeterministic-v4), EnvSpec(DoubleDunkNoFrameskip-v0), EnvSpec(DoubleDunkNoFrameskip-v4), EnvSpec(DoubleDunk-ram-v0), EnvSpec(DoubleDunk-ram-v4), EnvSpec(DoubleDunk-ramDeterministic-v0), EnvSpec(DoubleDunk-ramDeterministic-v4), EnvSpec(DoubleDunk-ramNoFrameskip-v0), EnvSpec(DoubleDunk-ramNoFrameskip-v4), EnvSpec(ElevatorAction-v0), EnvSpec(ElevatorAction-v4), EnvSpec(ElevatorActionDeterministic-v0), EnvSpec(ElevatorActionDeterministic-v4), EnvSpec(ElevatorActionNoFrameskip-v0), EnvSpec(ElevatorActionNoFrameskip-v4), EnvSpec(ElevatorAction-ram-v0), EnvSpec(ElevatorAction-ram-v4), EnvSpec(ElevatorAction-ramDeterministic-v0), EnvSpec(ElevatorAction-ramDeterministic-v4), EnvSpec(ElevatorAction-ramNoFrameskip-v0), EnvSpec(ElevatorAction-ramNoFrameskip-v4), EnvSpec(Enduro-v0), EnvSpec(Enduro-v4), EnvSpec(EnduroDeterministic-v0), EnvSpec(EnduroDeterministic-v4), EnvSpec(EnduroNoFrameskip-v0), EnvSpec(EnduroNoFrameskip-v4), EnvSpec(Enduro-ram-v0), EnvSpec(Enduro-ram-v4), EnvSpec(Enduro-ramDeterministic-v0), EnvSpec(Enduro-ramDeterministic-v4), EnvSpec(Enduro-ramNoFrameskip-v0), EnvSpec(Enduro-ramNoFrameskip-v4), EnvSpec(FishingDerby-v0), EnvSpec(FishingDerby-v4), EnvSpec(FishingDerbyDeterministic-v0), EnvSpec(FishingDerbyDeterministic-v4), EnvSpec(FishingDerbyNoFrameskip-v0), EnvSpec(FishingDerbyNoFrameskip-v4), EnvSpec(FishingDerby-ram-v0), EnvSpec(FishingDerby-ram-v4), EnvSpec(FishingDerby-ramDeterministic-v0), EnvSpec(FishingDerby-ramDeterministic-v4), EnvSpec(FishingDerby-ramNoFrameskip-v0), EnvSpec(FishingDerby-ramNoFrameskip-v4), EnvSpec(Freeway-v0), EnvSpec(Freeway-v4), EnvSpec(FreewayDeterministic-v0), EnvSpec(FreewayDeterministic-v4), EnvSpec(FreewayNoFrameskip-v0), EnvSpec(FreewayNoFrameskip-v4), EnvSpec(Freeway-ram-v0), EnvSpec(Freeway-ram-v4), EnvSpec(Freeway-ramDeterministic-v0), EnvSpec(Freeway-ramDeterministic-v4), EnvSpec(Freeway-ramNoFrameskip-v0), EnvSpec(Freeway-ramNoFrameskip-v4), EnvSpec(Frostbite-v0), EnvSpec(Frostbite-v4), EnvSpec(FrostbiteDeterministic-v0), EnvSpec(FrostbiteDeterministic-v4), EnvSpec(FrostbiteNoFrameskip-v0), EnvSpec(FrostbiteNoFrameskip-v4), EnvSpec(Frostbite-ram-v0), EnvSpec(Frostbite-ram-v4), EnvSpec(Frostbite-ramDeterministic-v0), EnvSpec(Frostbite-ramDeterministic-v4), EnvSpec(Frostbite-ramNoFrameskip-v0), EnvSpec(Frostbite-ramNoFrameskip-v4), EnvSpec(Gopher-v0), EnvSpec(Gopher-v4), EnvSpec(GopherDeterministic-v0), EnvSpec(GopherDeterministic-v4), EnvSpec(GopherNoFrameskip-v0), EnvSpec(GopherNoFrameskip-v4), EnvSpec(Gopher-ram-v0), EnvSpec(Gopher-ram-v4), EnvSpec(Gopher-ramDeterministic-v0), EnvSpec(Gopher-ramDeterministic-v4), EnvSpec(Gopher-ramNoFrameskip-v0), EnvSpec(Gopher-ramNoFrameskip-v4), EnvSpec(Gravitar-v0), EnvSpec(Gravitar-v4), EnvSpec(GravitarDeterministic-v0), EnvSpec(GravitarDeterministic-v4), EnvSpec(GravitarNoFrameskip-v0), EnvSpec(GravitarNoFrameskip-v4), EnvSpec(Gravitar-ram-v0), EnvSpec(Gravitar-ram-v4), EnvSpec(Gravitar-ramDeterministic-v0), EnvSpec(Gravitar-ramDeterministic-v4), EnvSpec(Gravitar-ramNoFrameskip-v0), EnvSpec(Gravitar-ramNoFrameskip-v4), EnvSpec(Hero-v0), EnvSpec(Hero-v4), EnvSpec(HeroDeterministic-v0), EnvSpec(HeroDeterministic-v4), EnvSpec(HeroNoFrameskip-v0), EnvSpec(HeroNoFrameskip-v4), EnvSpec(Hero-ram-v0), EnvSpec(Hero-ram-v4), EnvSpec(Hero-ramDeterministic-v0), EnvSpec(Hero-ramDeterministic-v4), EnvSpec(Hero-ramNoFrameskip-v0), EnvSpec(Hero-ramNoFrameskip-v4), EnvSpec(IceHockey-v0), EnvSpec(IceHockey-v4), EnvSpec(IceHockeyDeterministic-v0), EnvSpec(IceHockeyDeterministic-v4), EnvSpec(IceHockeyNoFrameskip-v0), EnvSpec(IceHockeyNoFrameskip-v4), EnvSpec(IceHockey-ram-v0), EnvSpec(IceHockey-ram-v4), EnvSpec(IceHockey-ramDeterministic-v0), EnvSpec(IceHockey-ramDeterministic-v4), EnvSpec(IceHockey-ramNoFrameskip-v0), EnvSpec(IceHockey-ramNoFrameskip-v4), EnvSpec(Jamesbond-v0), EnvSpec(Jamesbond-v4), EnvSpec(JamesbondDeterministic-v0), EnvSpec(JamesbondDeterministic-v4), EnvSpec(JamesbondNoFrameskip-v0), EnvSpec(JamesbondNoFrameskip-v4), EnvSpec(Jamesbond-ram-v0), EnvSpec(Jamesbond-ram-v4), EnvSpec(Jamesbond-ramDeterministic-v0), EnvSpec(Jamesbond-ramDeterministic-v4), EnvSpec(Jamesbond-ramNoFrameskip-v0), EnvSpec(Jamesbond-ramNoFrameskip-v4), EnvSpec(JourneyEscape-v0), EnvSpec(JourneyEscape-v4), EnvSpec(JourneyEscapeDeterministic-v0), EnvSpec(JourneyEscapeDeterministic-v4), EnvSpec(JourneyEscapeNoFrameskip-v0), EnvSpec(JourneyEscapeNoFrameskip-v4), EnvSpec(JourneyEscape-ram-v0), EnvSpec(JourneyEscape-ram-v4), EnvSpec(JourneyEscape-ramDeterministic-v0), EnvSpec(JourneyEscape-ramDeterministic-v4), EnvSpec(JourneyEscape-ramNoFrameskip-v0), EnvSpec(JourneyEscape-ramNoFrameskip-v4), EnvSpec(Kangaroo-v0), EnvSpec(Kangaroo-v4), EnvSpec(KangarooDeterministic-v0), EnvSpec(KangarooDeterministic-v4), EnvSpec(KangarooNoFrameskip-v0), EnvSpec(KangarooNoFrameskip-v4), EnvSpec(Kangaroo-ram-v0), EnvSpec(Kangaroo-ram-v4), EnvSpec(Kangaroo-ramDeterministic-v0), EnvSpec(Kangaroo-ramDeterministic-v4), EnvSpec(Kangaroo-ramNoFrameskip-v0), EnvSpec(Kangaroo-ramNoFrameskip-v4), EnvSpec(Krull-v0), EnvSpec(Krull-v4), EnvSpec(KrullDeterministic-v0), EnvSpec(KrullDeterministic-v4), EnvSpec(KrullNoFrameskip-v0), EnvSpec(KrullNoFrameskip-v4), EnvSpec(Krull-ram-v0), EnvSpec(Krull-ram-v4), EnvSpec(Krull-ramDeterministic-v0), EnvSpec(Krull-ramDeterministic-v4), EnvSpec(Krull-ramNoFrameskip-v0), EnvSpec(Krull-ramNoFrameskip-v4), EnvSpec(KungFuMaster-v0), EnvSpec(KungFuMaster-v4), EnvSpec(KungFuMasterDeterministic-v0), EnvSpec(KungFuMasterDeterministic-v4), EnvSpec(KungFuMasterNoFrameskip-v0), EnvSpec(KungFuMasterNoFrameskip-v4), EnvSpec(KungFuMaster-ram-v0), EnvSpec(KungFuMaster-ram-v4), EnvSpec(KungFuMaster-ramDeterministic-v0), EnvSpec(KungFuMaster-ramDeterministic-v4), EnvSpec(KungFuMaster-ramNoFrameskip-v0), EnvSpec(KungFuMaster-ramNoFrameskip-v4), EnvSpec(MontezumaRevenge-v0), EnvSpec(MontezumaRevenge-v4), EnvSpec(MontezumaRevengeDeterministic-v0), EnvSpec(MontezumaRevengeDeterministic-v4), EnvSpec(MontezumaRevengeNoFrameskip-v0), EnvSpec(MontezumaRevengeNoFrameskip-v4), EnvSpec(MontezumaRevenge-ram-v0), EnvSpec(MontezumaRevenge-ram-v4), EnvSpec(MontezumaRevenge-ramDeterministic-v0), EnvSpec(MontezumaRevenge-ramDeterministic-v4), EnvSpec(MontezumaRevenge-ramNoFrameskip-v0), EnvSpec(MontezumaRevenge-ramNoFrameskip-v4), EnvSpec(MsPacman-v0), EnvSpec(MsPacman-v4), EnvSpec(MsPacmanDeterministic-v0), EnvSpec(MsPacmanDeterministic-v4), EnvSpec(MsPacmanNoFrameskip-v0), EnvSpec(MsPacmanNoFrameskip-v4), EnvSpec(MsPacman-ram-v0), EnvSpec(MsPacman-ram-v4), EnvSpec(MsPacman-ramDeterministic-v0), EnvSpec(MsPacman-ramDeterministic-v4), EnvSpec(MsPacman-ramNoFrameskip-v0), EnvSpec(MsPacman-ramNoFrameskip-v4), EnvSpec(NameThisGame-v0), EnvSpec(NameThisGame-v4), EnvSpec(NameThisGameDeterministic-v0), EnvSpec(NameThisGameDeterministic-v4), EnvSpec(NameThisGameNoFrameskip-v0), EnvSpec(NameThisGameNoFrameskip-v4), EnvSpec(NameThisGame-ram-v0), EnvSpec(NameThisGame-ram-v4), EnvSpec(NameThisGame-ramDeterministic-v0), EnvSpec(NameThisGame-ramDeterministic-v4), EnvSpec(NameThisGame-ramNoFrameskip-v0), EnvSpec(NameThisGame-ramNoFrameskip-v4), EnvSpec(Phoenix-v0), EnvSpec(Phoenix-v4), EnvSpec(PhoenixDeterministic-v0), EnvSpec(PhoenixDeterministic-v4), EnvSpec(PhoenixNoFrameskip-v0), EnvSpec(PhoenixNoFrameskip-v4), EnvSpec(Phoenix-ram-v0), EnvSpec(Phoenix-ram-v4), EnvSpec(Phoenix-ramDeterministic-v0), EnvSpec(Phoenix-ramDeterministic-v4), EnvSpec(Phoenix-ramNoFrameskip-v0), EnvSpec(Phoenix-ramNoFrameskip-v4), EnvSpec(Pitfall-v0), EnvSpec(Pitfall-v4), EnvSpec(PitfallDeterministic-v0), EnvSpec(PitfallDeterministic-v4), EnvSpec(PitfallNoFrameskip-v0), EnvSpec(PitfallNoFrameskip-v4), EnvSpec(Pitfall-ram-v0), EnvSpec(Pitfall-ram-v4), EnvSpec(Pitfall-ramDeterministic-v0), EnvSpec(Pitfall-ramDeterministic-v4), EnvSpec(Pitfall-ramNoFrameskip-v0), EnvSpec(Pitfall-ramNoFrameskip-v4), EnvSpec(Pong-v0), EnvSpec(Pong-v4), EnvSpec(PongDeterministic-v0), EnvSpec(PongDeterministic-v4), EnvSpec(PongNoFrameskip-v0), EnvSpec(PongNoFrameskip-v4), EnvSpec(Pong-ram-v0), EnvSpec(Pong-ram-v4), EnvSpec(Pong-ramDeterministic-v0), EnvSpec(Pong-ramDeterministic-v4), EnvSpec(Pong-ramNoFrameskip-v0), EnvSpec(Pong-ramNoFrameskip-v4), EnvSpec(Pooyan-v0), EnvSpec(Pooyan-v4), EnvSpec(PooyanDeterministic-v0), EnvSpec(PooyanDeterministic-v4), EnvSpec(PooyanNoFrameskip-v0), EnvSpec(PooyanNoFrameskip-v4), EnvSpec(Pooyan-ram-v0), EnvSpec(Pooyan-ram-v4), EnvSpec(Pooyan-ramDeterministic-v0), EnvSpec(Pooyan-ramDeterministic-v4), EnvSpec(Pooyan-ramNoFrameskip-v0), EnvSpec(Pooyan-ramNoFrameskip-v4), EnvSpec(PrivateEye-v0), EnvSpec(PrivateEye-v4), EnvSpec(PrivateEyeDeterministic-v0), EnvSpec(PrivateEyeDeterministic-v4), EnvSpec(PrivateEyeNoFrameskip-v0), EnvSpec(PrivateEyeNoFrameskip-v4), EnvSpec(PrivateEye-ram-v0), EnvSpec(PrivateEye-ram-v4), EnvSpec(PrivateEye-ramDeterministic-v0), EnvSpec(PrivateEye-ramDeterministic-v4), EnvSpec(PrivateEye-ramNoFrameskip-v0), EnvSpec(PrivateEye-ramNoFrameskip-v4), EnvSpec(Qbert-v0), EnvSpec(Qbert-v4), EnvSpec(QbertDeterministic-v0), EnvSpec(QbertDeterministic-v4), EnvSpec(QbertNoFrameskip-v0), EnvSpec(QbertNoFrameskip-v4), EnvSpec(Qbert-ram-v0), EnvSpec(Qbert-ram-v4), EnvSpec(Qbert-ramDeterministic-v0), EnvSpec(Qbert-ramDeterministic-v4), EnvSpec(Qbert-ramNoFrameskip-v0), EnvSpec(Qbert-ramNoFrameskip-v4), EnvSpec(Riverraid-v0), EnvSpec(Riverraid-v4), EnvSpec(RiverraidDeterministic-v0), EnvSpec(RiverraidDeterministic-v4), EnvSpec(RiverraidNoFrameskip-v0), EnvSpec(RiverraidNoFrameskip-v4), EnvSpec(Riverraid-ram-v0), EnvSpec(Riverraid-ram-v4), EnvSpec(Riverraid-ramDeterministic-v0), EnvSpec(Riverraid-ramDeterministic-v4), EnvSpec(Riverraid-ramNoFrameskip-v0), EnvSpec(Riverraid-ramNoFrameskip-v4), EnvSpec(RoadRunner-v0), EnvSpec(RoadRunner-v4), EnvSpec(RoadRunnerDeterministic-v0), EnvSpec(RoadRunnerDeterministic-v4), EnvSpec(RoadRunnerNoFrameskip-v0), EnvSpec(RoadRunnerNoFrameskip-v4), EnvSpec(RoadRunner-ram-v0), EnvSpec(RoadRunner-ram-v4), EnvSpec(RoadRunner-ramDeterministic-v0), EnvSpec(RoadRunner-ramDeterministic-v4), EnvSpec(RoadRunner-ramNoFrameskip-v0), EnvSpec(RoadRunner-ramNoFrameskip-v4), EnvSpec(Robotank-v0), EnvSpec(Robotank-v4), EnvSpec(RobotankDeterministic-v0), EnvSpec(RobotankDeterministic-v4), EnvSpec(RobotankNoFrameskip-v0), EnvSpec(RobotankNoFrameskip-v4), EnvSpec(Robotank-ram-v0), EnvSpec(Robotank-ram-v4), EnvSpec(Robotank-ramDeterministic-v0), EnvSpec(Robotank-ramDeterministic-v4), EnvSpec(Robotank-ramNoFrameskip-v0), EnvSpec(Robotank-ramNoFrameskip-v4), EnvSpec(Seaquest-v0), EnvSpec(Seaquest-v4), EnvSpec(SeaquestDeterministic-v0), EnvSpec(SeaquestDeterministic-v4), EnvSpec(SeaquestNoFrameskip-v0), EnvSpec(SeaquestNoFrameskip-v4), EnvSpec(Seaquest-ram-v0), EnvSpec(Seaquest-ram-v4), EnvSpec(Seaquest-ramDeterministic-v0), EnvSpec(Seaquest-ramDeterministic-v4), EnvSpec(Seaquest-ramNoFrameskip-v0), EnvSpec(Seaquest-ramNoFrameskip-v4), EnvSpec(Skiing-v0), EnvSpec(Skiing-v4), EnvSpec(SkiingDeterministic-v0), EnvSpec(SkiingDeterministic-v4), EnvSpec(SkiingNoFrameskip-v0), EnvSpec(SkiingNoFrameskip-v4), EnvSpec(Skiing-ram-v0), EnvSpec(Skiing-ram-v4), EnvSpec(Skiing-ramDeterministic-v0), EnvSpec(Skiing-ramDeterministic-v4), EnvSpec(Skiing-ramNoFrameskip-v0), EnvSpec(Skiing-ramNoFrameskip-v4), EnvSpec(Solaris-v0), EnvSpec(Solaris-v4), EnvSpec(SolarisDeterministic-v0), EnvSpec(SolarisDeterministic-v4), EnvSpec(SolarisNoFrameskip-v0), EnvSpec(SolarisNoFrameskip-v4), EnvSpec(Solaris-ram-v0), EnvSpec(Solaris-ram-v4), EnvSpec(Solaris-ramDeterministic-v0), EnvSpec(Solaris-ramDeterministic-v4), EnvSpec(Solaris-ramNoFrameskip-v0), EnvSpec(Solaris-ramNoFrameskip-v4), EnvSpec(SpaceInvaders-v0), EnvSpec(SpaceInvaders-v4), EnvSpec(SpaceInvadersDeterministic-v0), EnvSpec(SpaceInvadersDeterministic-v4), EnvSpec(SpaceInvadersNoFrameskip-v0), EnvSpec(SpaceInvadersNoFrameskip-v4), EnvSpec(SpaceInvaders-ram-v0), EnvSpec(SpaceInvaders-ram-v4), EnvSpec(SpaceInvaders-ramDeterministic-v0), EnvSpec(SpaceInvaders-ramDeterministic-v4), EnvSpec(SpaceInvaders-ramNoFrameskip-v0), EnvSpec(SpaceInvaders-ramNoFrameskip-v4), EnvSpec(StarGunner-v0), EnvSpec(StarGunner-v4), EnvSpec(StarGunnerDeterministic-v0), EnvSpec(StarGunnerDeterministic-v4), EnvSpec(StarGunnerNoFrameskip-v0), EnvSpec(StarGunnerNoFrameskip-v4), EnvSpec(StarGunner-ram-v0), EnvSpec(StarGunner-ram-v4), EnvSpec(StarGunner-ramDeterministic-v0), EnvSpec(StarGunner-ramDeterministic-v4), EnvSpec(StarGunner-ramNoFrameskip-v0), EnvSpec(StarGunner-ramNoFrameskip-v4), EnvSpec(Tennis-v0), EnvSpec(Tennis-v4), EnvSpec(TennisDeterministic-v0), EnvSpec(TennisDeterministic-v4), EnvSpec(TennisNoFrameskip-v0), EnvSpec(TennisNoFrameskip-v4), EnvSpec(Tennis-ram-v0), EnvSpec(Tennis-ram-v4), EnvSpec(Tennis-ramDeterministic-v0), EnvSpec(Tennis-ramDeterministic-v4), EnvSpec(Tennis-ramNoFrameskip-v0), EnvSpec(Tennis-ramNoFrameskip-v4), EnvSpec(TimePilot-v0), EnvSpec(TimePilot-v4), EnvSpec(TimePilotDeterministic-v0), EnvSpec(TimePilotDeterministic-v4), EnvSpec(TimePilotNoFrameskip-v0), EnvSpec(TimePilotNoFrameskip-v4), EnvSpec(TimePilot-ram-v0), EnvSpec(TimePilot-ram-v4), EnvSpec(TimePilot-ramDeterministic-v0), EnvSpec(TimePilot-ramDeterministic-v4), EnvSpec(TimePilot-ramNoFrameskip-v0), EnvSpec(TimePilot-ramNoFrameskip-v4), EnvSpec(Tutankham-v0), EnvSpec(Tutankham-v4), EnvSpec(TutankhamDeterministic-v0), EnvSpec(TutankhamDeterministic-v4), EnvSpec(TutankhamNoFrameskip-v0), EnvSpec(TutankhamNoFrameskip-v4), EnvSpec(Tutankham-ram-v0), EnvSpec(Tutankham-ram-v4), EnvSpec(Tutankham-ramDeterministic-v0), EnvSpec(Tutankham-ramDeterministic-v4), EnvSpec(Tutankham-ramNoFrameskip-v0), EnvSpec(Tutankham-ramNoFrameskip-v4), EnvSpec(UpNDown-v0), EnvSpec(UpNDown-v4), EnvSpec(UpNDownDeterministic-v0), EnvSpec(UpNDownDeterministic-v4), EnvSpec(UpNDownNoFrameskip-v0), EnvSpec(UpNDownNoFrameskip-v4), EnvSpec(UpNDown-ram-v0), EnvSpec(UpNDown-ram-v4), EnvSpec(UpNDown-ramDeterministic-v0), EnvSpec(UpNDown-ramDeterministic-v4), EnvSpec(UpNDown-ramNoFrameskip-v0), EnvSpec(UpNDown-ramNoFrameskip-v4), EnvSpec(Venture-v0), EnvSpec(Venture-v4), EnvSpec(VentureDeterministic-v0), EnvSpec(VentureDeterministic-v4), EnvSpec(VentureNoFrameskip-v0), EnvSpec(VentureNoFrameskip-v4), EnvSpec(Venture-ram-v0), EnvSpec(Venture-ram-v4), EnvSpec(Venture-ramDeterministic-v0), EnvSpec(Venture-ramDeterministic-v4), EnvSpec(Venture-ramNoFrameskip-v0), EnvSpec(Venture-ramNoFrameskip-v4), EnvSpec(VideoPinball-v0), EnvSpec(VideoPinball-v4), EnvSpec(VideoPinballDeterministic-v0), EnvSpec(VideoPinballDeterministic-v4), EnvSpec(VideoPinballNoFrameskip-v0), EnvSpec(VideoPinballNoFrameskip-v4), EnvSpec(VideoPinball-ram-v0), EnvSpec(VideoPinball-ram-v4), EnvSpec(VideoPinball-ramDeterministic-v0), EnvSpec(VideoPinball-ramDeterministic-v4), EnvSpec(VideoPinball-ramNoFrameskip-v0), EnvSpec(VideoPinball-ramNoFrameskip-v4), EnvSpec(WizardOfWor-v0), EnvSpec(WizardOfWor-v4), EnvSpec(WizardOfWorDeterministic-v0), EnvSpec(WizardOfWorDeterministic-v4), EnvSpec(WizardOfWorNoFrameskip-v0), EnvSpec(WizardOfWorNoFrameskip-v4), EnvSpec(WizardOfWor-ram-v0), EnvSpec(WizardOfWor-ram-v4), EnvSpec(WizardOfWor-ramDeterministic-v0), EnvSpec(WizardOfWor-ramDeterministic-v4), EnvSpec(WizardOfWor-ramNoFrameskip-v0), EnvSpec(WizardOfWor-ramNoFrameskip-v4), EnvSpec(YarsRevenge-v0), EnvSpec(YarsRevenge-v4), EnvSpec(YarsRevengeDeterministic-v0), EnvSpec(YarsRevengeDeterministic-v4), EnvSpec(YarsRevengeNoFrameskip-v0), EnvSpec(YarsRevengeNoFrameskip-v4), EnvSpec(YarsRevenge-ram-v0), EnvSpec(YarsRevenge-ram-v4), EnvSpec(YarsRevenge-ramDeterministic-v0), EnvSpec(YarsRevenge-ramDeterministic-v4), EnvSpec(YarsRevenge-ramNoFrameskip-v0), EnvSpec(YarsRevenge-ramNoFrameskip-v4), EnvSpec(Zaxxon-v0), EnvSpec(Zaxxon-v4), EnvSpec(ZaxxonDeterministic-v0), EnvSpec(ZaxxonDeterministic-v4), EnvSpec(ZaxxonNoFrameskip-v0), EnvSpec(ZaxxonNoFrameskip-v4), EnvSpec(Zaxxon-ram-v0), EnvSpec(Zaxxon-ram-v4), EnvSpec(Zaxxon-ramDeterministic-v0), EnvSpec(Zaxxon-ramDeterministic-v4), EnvSpec(Zaxxon-ramNoFrameskip-v0), EnvSpec(Zaxxon-ramNoFrameskip-v4), EnvSpec(CubeCrash-v0), EnvSpec(CubeCrashSparse-v0), EnvSpec(CubeCrashScreenBecomesBlack-v0), EnvSpec(MemorizeDigits-v0)])\n"
          ],
          "name": "stdout"
        }
      ]
    },
    {
      "cell_type": "code",
      "metadata": {
        "id": "8o7QSt6lGThF"
      },
      "source": [
        "class DDQN(nn.Module):\n",
        "    def __init__(self, state_size, action_size,layer_size, seed, layer_type=\"ff\"):\n",
        "        super(DDQN, self).__init__()\n",
        "        self.seed = torch.manual_seed(seed)\n",
        "        self.input_shape = state_size\n",
        "        self.action_size = action_size\n",
        "\n",
        "        self.head_1 = nn.Linear(self.input_shape[0], layer_size)\n",
        "        self.ff_1 = nn.Linear(layer_size, layer_size)\n",
        "        self.ff_2 = nn.Linear(layer_size, action_size)\n",
        "        # self.ff_1 = nn.Linear(layer_size, layer_size)\n",
        "        # self.ff_2 = nn.Linear(layer_size, layer_size//2)\n",
        "        # self.ff_3 = nn.Linear(layer_size//2, action_size)\n",
        "        weight_init([self.head_1, self.ff_1])\n",
        "    \n",
        "    def forward(self, input):\n",
        "        \"\"\"\n",
        "        \n",
        "        \"\"\"\n",
        "        x = torch.relu(self.head_1(input))\n",
        "        x = torch.relu(self.ff_1(x))\n",
        "        # x = torch.relu(self.ff_2(x))\n",
        "        out = self.ff_2(x)\n",
        "        # out = self.ff_3(x)\n",
        "        \n",
        "        return out"
      ],
      "execution_count": 44,
      "outputs": []
    },
    {
      "cell_type": "code",
      "metadata": {
        "id": "iVe1T0ecGThF"
      },
      "source": [
        "class ReplayBuffer:\n",
        "    \"\"\"Fixed-size buffer to store experience tuples.\"\"\"\n",
        "\n",
        "    def __init__(self, buffer_size, batch_size, device, seed, gamma, n_step=1):\n",
        "        \"\"\"Initialize a ReplayBuffer object.\n",
        "        Params\n",
        "        ======\n",
        "            buffer_size (int): maximum size of buffer\n",
        "            batch_size (int): size of each training batch\n",
        "            seed (int): random seed\n",
        "        \"\"\"\n",
        "        self.device = device\n",
        "        self.memory = deque(maxlen=buffer_size)  \n",
        "        self.batch_size = batch_size\n",
        "        self.experience = namedtuple(\"Experience\", field_names=[\"state\", \"action\", \"reward\", \"next_state\", \"done\"])\n",
        "        self.seed = random.seed(seed)\n",
        "        self.gamma = gamma\n",
        "        self.n_step = n_step\n",
        "        self.n_step_buffer = deque(maxlen=self.n_step)\n",
        "    \n",
        "    def add(self, state, action, reward, next_state, done):\n",
        "        \"\"\"Add a new experience to memory.\"\"\"\n",
        "        #print(\"before:\", state,action,reward,next_state, done)\n",
        "        self.n_step_buffer.append((state, action, reward, next_state, done))\n",
        "        if len(self.n_step_buffer) == self.n_step:\n",
        "            state, action, reward, next_state, done = self.calc_multistep_return()\n",
        "            #print(\"after:\",state,action,reward,next_state, done)\n",
        "            e = self.experience(state, action, reward, next_state, done)\n",
        "            self.memory.append(e)\n",
        "    \n",
        "    def calc_multistep_return(self):\n",
        "        Return = 0\n",
        "        for idx in range(self.n_step):\n",
        "            Return += self.gamma**idx * self.n_step_buffer[idx][2]\n",
        "        \n",
        "        return self.n_step_buffer[0][0], self.n_step_buffer[0][1], Return, self.n_step_buffer[-1][3], self.n_step_buffer[-1][4]\n",
        "        \n",
        "    \n",
        "    \n",
        "    def sample(self):\n",
        "        \"\"\"Randomly sample a batch of experiences from memory.\"\"\"\n",
        "        experiences = random.sample(self.memory, k=self.batch_size)\n",
        "\n",
        "        states = torch.from_numpy(np.stack([e.state for e in experiences if e is not None])).float().to(self.device)\n",
        "        actions = torch.from_numpy(np.vstack([e.action for e in experiences if e is not None])).long().to(self.device)\n",
        "        rewards = torch.from_numpy(np.vstack([e.reward for e in experiences if e is not None])).float().to(self.device)\n",
        "        next_states = torch.from_numpy(np.stack([e.next_state for e in experiences if e is not None])).float().to(self.device)\n",
        "        dones = torch.from_numpy(np.vstack([e.done for e in experiences if e is not None]).astype(np.uint8)).float().to(self.device)\n",
        "  \n",
        "        return (states, actions, rewards, next_states, dones)\n",
        "\n",
        "    def __len__(self):\n",
        "        \"\"\"Return the current size of internal memory.\"\"\"\n",
        "        return len(self.memory)"
      ],
      "execution_count": 4,
      "outputs": []
    },
    {
      "cell_type": "code",
      "metadata": {
        "id": "evIbWhLYGThH"
      },
      "source": [
        "class M_DQN_Agent():\n",
        "    \"\"\"Interacts with and learns from the environment.\"\"\"\n",
        "\n",
        "    def __init__(self,\n",
        "                 state_size,\n",
        "                 action_size,\n",
        "                 layer_size,\n",
        "                 BATCH_SIZE,\n",
        "                 BUFFER_SIZE,\n",
        "                 LR,\n",
        "                 TAU,\n",
        "                 GAMMA,\n",
        "                 UPDATE_EVERY,\n",
        "                 device,\n",
        "                 seed):\n",
        "        \"\"\"Initialize an Agent object.\n",
        "        \n",
        "        Params\n",
        "        ======\n",
        "            state_size (int): dimension of each state\n",
        "            action_size (int): dimension of each action\n",
        "            layer_size (int): size of the hidden layer\n",
        "            BATCH_SIZE (int): size of the training batch\n",
        "            BUFFER_SIZE (int): size of the replay memory\n",
        "            LR (float): learning rate\n",
        "            TAU (float): tau for soft updating the network weights\n",
        "            GAMMA (float): discount factor\n",
        "            UPDATE_EVERY (int): update frequency\n",
        "            device (str): device that is used for the compute\n",
        "            seed (int): random seed\n",
        "        \"\"\"\n",
        "        self.state_size = state_size\n",
        "        self.action_size = action_size\n",
        "        self.seed = random.seed(seed)\n",
        "        self.device = device\n",
        "        self.TAU = TAU\n",
        "        self.GAMMA = GAMMA\n",
        "        self.UPDATE_EVERY = UPDATE_EVERY\n",
        "        self.BATCH_SIZE = BATCH_SIZE\n",
        "        self.Q_updates = 0\n",
        "\n",
        "        self.action_step = 4\n",
        "        self.last_action = None\n",
        "    \n",
        "        # Q-Network\n",
        "        self.qnetwork_local = DDQN(state_size, action_size,layer_size, seed).to(device)\n",
        "        self.qnetwork_target = DDQN(state_size, action_size,layer_size, seed).to(device)\n",
        "        \n",
        "        self.optimizer = optim.Adam(self.qnetwork_local.parameters(), lr=LR)\n",
        "        print(self.qnetwork_local)\n",
        "        \n",
        "        # Replay memory\n",
        "        self.memory = ReplayBuffer(BUFFER_SIZE, BATCH_SIZE, self.device, seed, self.GAMMA, 1)\n",
        "        \n",
        "        # Initialize time step (for updating every UPDATE_EVERY steps)\n",
        "        self.t_step = 0\n",
        "    \n",
        "    def step(self, state, action, reward, next_state, done, writer):\n",
        "        # Save experience in replay memory\n",
        "        self.memory.add(state, action, reward, next_state, done)\n",
        "        \n",
        "        # Learn every UPDATE_EVERY time steps.\n",
        "        self.t_step = (self.t_step + 1) % self.UPDATE_EVERY\n",
        "        if self.t_step == 0:\n",
        "            # If enough samples are available in memory, get random subset and learn\n",
        "            if len(self.memory) > self.BATCH_SIZE:\n",
        "                experiences = self.memory.sample()\n",
        "                loss = self.learn(experiences)\n",
        "                self.Q_updates += 1\n",
        "                writer.add_scalar(\"Q_loss\", loss, self.Q_updates)\n",
        "\n",
        "    def act(self, state, eps=0.):\n",
        "        \"\"\"Returns actions for given state as per current policy. Acting only every 4 frames!\n",
        "        \n",
        "        Params\n",
        "        ======\n",
        "            frame: to adjust epsilon\n",
        "            state (array_like): current state\n",
        "            \n",
        "        \"\"\"\n",
        "\n",
        "        if self.action_step == 4:\n",
        "            state = np.array(state)\n",
        "\n",
        "            state = torch.from_numpy(state).float().unsqueeze(0).to(self.device)\n",
        "            self.qnetwork_local.eval()\n",
        "            with torch.no_grad():\n",
        "                action_values = self.qnetwork_local(state)\n",
        "            self.qnetwork_local.train()\n",
        "\n",
        "            # Epsilon-greedy action selection\n",
        "            if random.random() > eps: # select greedy action if random number is higher than epsilon or noisy network is used!\n",
        "                action = np.argmax(action_values.cpu().data.numpy())\n",
        "                self.last_action = action\n",
        "                return action\n",
        "            else:\n",
        "                action = random.choice(np.arange(self.action_size))\n",
        "                self.last_action = action \n",
        "                return action\n",
        "            #self.action_step = 0\n",
        "        else:\n",
        "            self.action_step += 1\n",
        "            return self.last_action\n",
        "\n",
        "    def learn(self, experiences):\n",
        "        \"\"\"Update value parameters using given batch of experience tuples.\n",
        "        Params\n",
        "        ======\n",
        "            experiences (Tuple[torch.Tensor]): tuple of (s, a, r, s', done) tuples \n",
        "            gamma (float): discount factor\n",
        "        \"\"\"\n",
        "        self.optimizer.zero_grad()\n",
        "        states, actions, rewards, next_states, dones = experiences\n",
        "        # Get predicted Q values (for next states) from target model\n",
        "        Q_targets_next = self.qnetwork_target(next_states).detach()\n",
        "        # calculate entropy term with logsum \n",
        "        logsum = torch.logsumexp(\\\n",
        "                                (Q_targets_next - Q_targets_next.max(1)[0].unsqueeze(-1))/entropy_tau , 1).unsqueeze(-1)\n",
        "\n",
        "        tau_log_pi_next = Q_targets_next - Q_targets_next.max(1)[0].unsqueeze(-1) - entropy_tau*logsum\n",
        "        # target policy\n",
        "        pi_target = F.softmax(Q_targets_next/entropy_tau, dim=1)\n",
        "        Q_target = (self.GAMMA * (pi_target * (Q_targets_next-tau_log_pi_next)*(1 - dones)).sum(1)).unsqueeze(-1)\n",
        "        \n",
        "        # calculate munchausen addon with logsum trick\n",
        "        q_k_targets = self.qnetwork_target(states).detach()\n",
        "        v_k_target = q_k_targets.max(1)[0].unsqueeze(-1)\n",
        "        logsum = torch.logsumexp((q_k_targets - v_k_target)/entropy_tau, 1).unsqueeze(-1)\n",
        "        log_pi = q_k_targets - v_k_target - entropy_tau*logsum\n",
        "        munchausen_addon = log_pi.gather(1, actions)\n",
        "        \n",
        "        # calc munchausen reward:\n",
        "        munchausen_reward = (rewards + alpha*torch.clamp(munchausen_addon, min=lo, max=0))\n",
        "        \n",
        "        # Compute Q targets for current states \n",
        "        Q_targets = munchausen_reward + Q_target\n",
        "        \n",
        "        # Get expected Q values from local model\n",
        "        q_k = self.qnetwork_local(states)\n",
        "        Q_expected = q_k.gather(1, actions)\n",
        "        \n",
        "        # Compute loss\n",
        "        loss = F.mse_loss(Q_expected, Q_targets) #mse_loss\n",
        "        # Minimize the loss\n",
        "        loss.backward()\n",
        "        #clip_grad_norm_(self.qnetwork_local.parameters(),1)\n",
        "        self.optimizer.step()\n",
        "\n",
        "        # ------------------- update target network ------------------- #\n",
        "        self.soft_update(self.qnetwork_local, self.qnetwork_target)\n",
        "        return loss.detach().cpu().numpy()            \n",
        "\n",
        "    def soft_update(self, local_model, target_model):\n",
        "        \"\"\"Soft update model parameters.\n",
        "        θ_target = τ*θ_local + (1 - τ)*θ_target\n",
        "        Params\n",
        "        ======\n",
        "            local_model (PyTorch model): weights will be copied from\n",
        "            target_model (PyTorch model): weights will be copied to\n",
        "            tau (float): interpolation parameter \n",
        "        \"\"\"\n",
        "        for target_param, local_param in zip(target_model.parameters(), local_model.parameters()):\n",
        "            target_param.data.copy_(self.TAU*local_param.data + (1.0-self.TAU)*target_param.data)\n",
        "\n",
        "def eval_runs(eps, frame, game_type):\n",
        "    \"\"\"\n",
        "    Makes an evaluation run with the current epsilon\n",
        "    \"\"\"\n",
        "    env = gym.make(game_type)\n",
        "    reward_batch = []\n",
        "    for i in range(5):\n",
        "        state = env.reset()\n",
        "        rewards = 0\n",
        "        while True:\n",
        "            action = agent.act(state, eps)\n",
        "            state, reward, done, _ = env.step(action)\n",
        "            rewards += reward\n",
        "            if done:\n",
        "                break\n",
        "        reward_batch.append(rewards)\n",
        "        \n",
        "    writer.add_scalar(\"Reward\", np.mean(reward_batch), frame)\n"
      ],
      "execution_count": 5,
      "outputs": []
    },
    {
      "cell_type": "code",
      "metadata": {
        "scrolled": true,
        "id": "4trdZfLrGThJ"
      },
      "source": [
        "def run(frames=1000, eps_fixed=False, eps_frames=1e6, min_eps=0.01, game_type=\"CartPole-v0\"):\n",
        "    \"\"\"Deep Munchausen Q-Learning.\n",
        "    \n",
        "    Params\n",
        "    ======\n",
        "        n_episodes (int): maximum number of training episodes\n",
        "        max_t (int): maximum number of timesteps per episode\n",
        "        eps_start (float): starting value of epsilon, for epsilon-greedy action selection\n",
        "        eps_end (float): minimum value of epsilon\n",
        "        eps_decay (float): multiplicative factor (per episode) for decreasing epsilon\n",
        "    \"\"\"\n",
        "    scores = []                        # list containing scores from each episode\n",
        "    scores_window = deque(maxlen=100)  # last 100 scores\n",
        "    output_history = []\n",
        "    score_per_ep = []\n",
        "    frame = 0\n",
        "    if eps_fixed:\n",
        "        eps = 0\n",
        "    else:\n",
        "        eps = 1\n",
        "    eps_start = 1\n",
        "    i_episode = 1\n",
        "    state = env.reset()\n",
        "    score = 0                  \n",
        "    for frame in range(1, frames+1):\n",
        "\n",
        "        action = agent.act(state, eps)\n",
        "        next_state, reward, done, _ = env.step(action)\n",
        "        agent.step(state, action, reward, next_state, done, writer)\n",
        "        state = next_state\n",
        "        score += reward\n",
        "        # linear annealing to the min epsilon value until eps_frames and from there slowly decease epsilon to 0 until the end of training\n",
        "        if eps_fixed == False:\n",
        "            if frame < eps_frames:\n",
        "                eps = max(eps_start - (frame*(1/eps_frames)), min_eps)\n",
        "            else:\n",
        "                eps = max(min_eps - min_eps*((frame-eps_frames)/(frames-eps_frames)), 0.001)\n",
        "        \n",
        "        # evaluation runs\n",
        "        if frame % 1000 == 0:\n",
        "            eval_runs(eps, frame, game_type)\n",
        "        \n",
        "        if done:\n",
        "            scores_window.append(score)       # save most recent score\n",
        "            scores.append(score)              # save most recent score\n",
        "            writer.add_scalar(\"Average100\", np.mean(scores_window), frame)\n",
        "            output_history.append(np.mean(scores_window))\n",
        "            score_per_ep.append(np.mean(scores_window))\n",
        "            print('\\rEpisode {}\\tFrame {} \\tAverage Score: {:.2f}'.format(i_episode, frame, np.mean(scores_window)), end=\"\")\n",
        "            if i_episode % 100 == 0:\n",
        "                print('\\rEpisode {}\\tFrame {}\\tAverage Score: {:.2f}'.format(i_episode,frame, np.mean(scores_window)))\n",
        "            i_episode +=1 \n",
        "            state = env.reset()\n",
        "            score = 0              \n",
        "\n",
        "    return output_history, score_per_ep"
      ],
      "execution_count": 6,
      "outputs": []
    },
    {
      "cell_type": "code",
      "metadata": {
        "colab": {
          "base_uri": "https://localhost:8080/"
        },
        "id": "pq_vx7OISBiw",
        "outputId": "c631bb3e-6916-4ff3-a49c-f014f73346a5"
      },
      "source": [
        "writer = SummaryWriter(\"runs/\"+\"M-DQN_CP\")\n",
        "seed = 4\n",
        "BUFFER_SIZE = 100000\n",
        "BATCH_SIZE = 8\n",
        "GAMMA = 0.99\n",
        "TAU = 1e-2\n",
        "LR = 1e-3\n",
        "UPDATE_EVERY = 1\n",
        "lo = -1\n",
        "entropy_tau = 0.03\n",
        "alpha = 0.9\n",
        "device = torch.device(\"cuda:0\" if torch.cuda.is_available() else \"cpu\")\n",
        "game_type = 'CartPole-v0'\n",
        "print(\"Using \", device)\n",
        "\n",
        "\n",
        "\n",
        "\n",
        "np.random.seed(seed)\n",
        "env = gym.make(game_type)\n",
        "\n",
        "env.seed(seed)\n",
        "action_size     = env.action_space.n\n",
        "state_size = env.observation_space.shape\n",
        "\n",
        "agent = M_DQN_Agent(state_size=state_size,    \n",
        "                    action_size=action_size,\n",
        "                    layer_size=256,\n",
        "                    BATCH_SIZE=BATCH_SIZE, \n",
        "                    BUFFER_SIZE=BUFFER_SIZE, \n",
        "                    LR=LR, \n",
        "                    TAU=TAU, \n",
        "                    GAMMA=GAMMA, \n",
        "                    UPDATE_EVERY=UPDATE_EVERY, \n",
        "                    device=device, \n",
        "                    seed=seed)\n",
        "\n",
        "\n",
        "\n",
        "# set epsilon frames to 0 so no epsilon exploration\n",
        "eps_fixed = False\n",
        "\n",
        "t0 = time.time()\n",
        "final_average100, score_per_ep = run(frames = 10000, eps_fixed=eps_fixed, eps_frames=5000, min_eps=0.025, game_type=game_type)\n",
        "t1 = time.time()\n",
        "\n",
        "print(len(score_per_ep))\n",
        "\n",
        "print(\"\\nTraining time: {}min\".format(round((t1-t0)/60,2)))\n",
        "torch.save(agent.qnetwork_local.state_dict(), \"M-DQN-CP\"+\".pth\")"
      ],
      "execution_count": 17,
      "outputs": [
        {
          "output_type": "stream",
          "text": [
            "Using  cpu\n",
            "DDQN(\n",
            "  (head_1): Linear(in_features=4, out_features=256, bias=True)\n",
            "  (ff_1): Linear(in_features=256, out_features=256, bias=True)\n",
            "  (ff_2): Linear(in_features=256, out_features=2, bias=True)\n",
            ")\n",
            "Episode 100\tFrame 7867\tAverage Score: 78.67\n",
            "Episode 110\tFrame 9835 \tAverage Score: 96.10110\n",
            "\n",
            "Training time: 0.75min\n"
          ],
          "name": "stdout"
        }
      ]
    },
    {
      "cell_type": "code",
      "metadata": {
        "colab": {
          "base_uri": "https://localhost:8080/"
        },
        "id": "dRuxUyXFyhgl",
        "outputId": "ae6270d8-c9cd-4ef8-d836-f0bf427980c2"
      },
      "source": [
        "writer = SummaryWriter(\"runs/\"+\"M-DQN_CP\")\n",
        "seed = 4\n",
        "BUFFER_SIZE = 100000\n",
        "BATCH_SIZE = 8\n",
        "GAMMA = 0.99\n",
        "TAU = 1e-2\n",
        "LR = 1e-3\n",
        "UPDATE_EVERY = 1\n",
        "lo = -1\n",
        "entropy_tau = 0.035\n",
        "alpha = 0.9\n",
        "device = torch.device(\"cuda:0\" if torch.cuda.is_available() else \"cpu\")\n",
        "game_type = 'CartPole-v0'\n",
        "print(\"Using \", device)\n",
        "\n",
        "\n",
        "\n",
        "\n",
        "np.random.seed(seed)\n",
        "env = gym.make(game_type)\n",
        "\n",
        "env.seed(seed)\n",
        "action_size     = env.action_space.n\n",
        "state_size = env.observation_space.shape\n",
        "\n",
        "agent = M_DQN_Agent(state_size=state_size,    \n",
        "                    action_size=action_size,\n",
        "                    layer_size=256,\n",
        "                    BATCH_SIZE=BATCH_SIZE, \n",
        "                    BUFFER_SIZE=BUFFER_SIZE, \n",
        "                    LR=LR, \n",
        "                    TAU=TAU, \n",
        "                    GAMMA=GAMMA, \n",
        "                    UPDATE_EVERY=UPDATE_EVERY, \n",
        "                    device=device, \n",
        "                    seed=seed)\n",
        "\n",
        "\n",
        "\n",
        "# set epsilon frames to 0 so no epsilon exploration\n",
        "eps_fixed = False\n",
        "\n",
        "t0 = time.time()\n",
        "final_average100, score_per_ep = run(frames = 60000, eps_fixed=eps_fixed, eps_frames=5000, min_eps=0.025, game_type=game_type)\n",
        "t1 = time.time()\n",
        "\n",
        "print(len(score_per_ep))\n",
        "\n",
        "print(\"\\nTraining time: {}min\".format(round((t1-t0)/60,2)))\n",
        "torch.save(agent.qnetwork_local.state_dict(), \"M-DQN-CP\"+\".pth\")"
      ],
      "execution_count": 45,
      "outputs": [
        {
          "output_type": "stream",
          "text": [
            "Using  cpu\n",
            "DDQN(\n",
            "  (head_1): Linear(in_features=4, out_features=256, bias=True)\n",
            "  (ff_1): Linear(in_features=256, out_features=256, bias=True)\n",
            "  (ff_2): Linear(in_features=256, out_features=2, bias=True)\n",
            ")\n",
            "Episode 100\tFrame 7872\tAverage Score: 78.72\n",
            "Episode 200\tFrame 25188\tAverage Score: 173.16\n",
            "Episode 300\tFrame 44678\tAverage Score: 194.90\n",
            "Episode 379\tFrame 59900 \tAverage Score: 194.22379\n",
            "\n",
            "Training time: 4.73min\n"
          ],
          "name": "stdout"
        }
      ]
    },
    {
      "cell_type": "code",
      "metadata": {
        "colab": {
          "base_uri": "https://localhost:8080/"
        },
        "id": "tny0cALs0Hg6",
        "outputId": "99b8b3cb-8ea1-4ef7-db24-6b83a87146df"
      },
      "source": [
        "writer = SummaryWriter(\"runs/\"+\"M-DQN_LL\")\n",
        "seed = 4\n",
        "BUFFER_SIZE = 100000\n",
        "BATCH_SIZE = 8\n",
        "GAMMA = 0.99\n",
        "TAU = 1e-2\n",
        "LR = 1e-3\n",
        "UPDATE_EVERY = 1\n",
        "lo = -1\n",
        "entropy_tau = 0.03\n",
        "alpha = 0.9\n",
        "device = torch.device(\"cuda:0\" if torch.cuda.is_available() else \"cpu\")\n",
        "game_type = 'LunarLander-v2'\n",
        "print(\"Using \", device)\n",
        "\n",
        "\n",
        "\n",
        "\n",
        "np.random.seed(seed)\n",
        "env = gym.make(game_type)\n",
        "\n",
        "env.seed(seed)\n",
        "action_size     = env.action_space.n\n",
        "state_size = env.observation_space.shape\n",
        "\n",
        "agent = M_DQN_Agent(state_size=state_size,    \n",
        "                    action_size=action_size,\n",
        "                    layer_size=256,\n",
        "                    BATCH_SIZE=BATCH_SIZE, \n",
        "                    BUFFER_SIZE=BUFFER_SIZE, \n",
        "                    LR=LR, \n",
        "                    TAU=TAU, \n",
        "                    GAMMA=GAMMA, \n",
        "                    UPDATE_EVERY=UPDATE_EVERY, \n",
        "                    device=device, \n",
        "                    seed=seed)\n",
        "\n",
        "\n",
        "\n",
        "# set epsilon frames to 0 so no epsilon exploration\n",
        "eps_fixed = False\n",
        "\n",
        "t0 = time.time()\n",
        "final_average100, score_per_ep2 = run(frames = 60000, eps_fixed=eps_fixed, eps_frames=5000, min_eps=0.025, game_type=game_type)\n",
        "t1 = time.time()\n",
        "\n",
        "print(\"\\nTraining time: {}min\".format(round((t1-t0)/60,2)))\n",
        "torch.save(agent.qnetwork_local.state_dict(), \"M-DQN-LL\"+\".pth\")"
      ],
      "execution_count": 46,
      "outputs": [
        {
          "output_type": "stream",
          "text": [
            "Using  cpu\n",
            "DDQN(\n",
            "  (head_1): Linear(in_features=8, out_features=256, bias=True)\n",
            "  (ff_1): Linear(in_features=256, out_features=256, bias=True)\n",
            "  (ff_2): Linear(in_features=256, out_features=4, bias=True)\n",
            ")\n",
            "Episode 100\tFrame 39845\tAverage Score: -108.26\n",
            "Episode 135\tFrame 59498 \tAverage Score: -4.72\n",
            "Training time: 10.06min\n"
          ],
          "name": "stdout"
        }
      ]
    },
    {
      "cell_type": "code",
      "metadata": {
        "id": "BSTPLdKqnbAY"
      },
      "source": [
        "with open(\"aster-orig.scores\", 'w') as f:\n",
        "  for score in score_per_ep2:\n",
        "    f.write(str(score)+\"\\n\")"
      ],
      "execution_count": 47,
      "outputs": []
    },
    {
      "cell_type": "code",
      "metadata": {
        "id": "F43bZDmJ6mSP"
      },
      "source": [
        "import matplotlib.pyplot as plt"
      ],
      "execution_count": 9,
      "outputs": []
    },
    {
      "cell_type": "code",
      "metadata": {
        "colab": {
          "base_uri": "https://localhost:8080/",
          "height": 295
        },
        "id": "6tI5SDHiDC4e",
        "outputId": "5dbf95bd-b828-4830-e550-7605e506e761"
      },
      "source": [
        "plt.plot(score_per_ep)\n",
        "plt.ylabel('Score')\n",
        "plt.xlabel('Episodes')\n",
        "plt.title('M-DQN on Cart Pole')\n",
        "plt.savefig('CartpoleDQN.png')"
      ],
      "execution_count": 10,
      "outputs": [
        {
          "output_type": "display_data",
          "data": {
            "image/png": "[encoded data removed]",
            "text/plain": [
              "<Figure size 432x288 with 1 Axes>"
            ]
          },
          "metadata": {
            "tags": [],
            "needs_background": "light"
          }
        }
      ]
    },
    {
      "cell_type": "code",
      "metadata": {
        "colab": {
          "base_uri": "https://localhost:8080/",
          "height": 295
        },
        "id": "Zshfo1x6Dtvy",
        "outputId": "6b7a1766-0a9e-474a-f62b-8da40c9134b9"
      },
      "source": [
        "plt.plot(score_per_ep2)\n",
        "plt.ylabel('Score')\n",
        "plt.xlabel('Episodes')\n",
        "plt.title('M-DQN on Lunar Lander')\n",
        "plt.savefig('LunarLanderDQN.png')"
      ],
      "execution_count": 11,
      "outputs": [
        {
          "output_type": "display_data",
          "data": {
            "image/png": "[encoded data removed]",
            "text/plain": [
              "<Figure size 432x288 with 1 Axes>"
            ]
          },
          "metadata": {
            "tags": [],
            "needs_background": "light"
          }
        }
      ]
    },
    {
      "cell_type": "code",
      "metadata": {
        "colab": {
          "base_uri": "https://localhost:8080/"
        },
        "id": "jD6S6ujwEvDl",
        "outputId": "ddecb327-d299-4270-855a-0a32dae3fb02"
      },
      "source": [
        "writer = SummaryWriter(\"runs/\"+\"M-DQN_MP\")\n",
        "seed = 4\n",
        "BUFFER_SIZE = 100000\n",
        "BATCH_SIZE = 8\n",
        "GAMMA = 0.99\n",
        "TAU = 1e-2\n",
        "LR = 1e-3\n",
        "UPDATE_EVERY = 1\n",
        "lo = -1\n",
        "entropy_tau = 0.03\n",
        "alpha = 0.9\n",
        "device = torch.device(\"cuda:0\" if torch.cuda.is_available() else \"cpu\")\n",
        "game_type = 'Alien-ram-v0'\n",
        "print(\"Using \", device)\n",
        "\n",
        "\n",
        "\n",
        "\n",
        "np.random.seed(seed)\n",
        "env = gym.make(game_type)\n",
        "\n",
        "env.seed(seed)\n",
        "action_size     = env.action_space.n\n",
        "state_size = env.observation_space.shape\n",
        "\n",
        "agent = M_DQN_Agent(state_size=state_size,    \n",
        "                    action_size=action_size,\n",
        "                    layer_size=256,\n",
        "                    BATCH_SIZE=BATCH_SIZE, \n",
        "                    BUFFER_SIZE=BUFFER_SIZE, \n",
        "                    LR=LR, \n",
        "                    TAU=TAU, \n",
        "                    GAMMA=GAMMA, \n",
        "                    UPDATE_EVERY=UPDATE_EVERY, \n",
        "                    device=device, \n",
        "                    seed=seed)\n",
        "\n",
        "\n",
        "\n",
        "# set epsilon frames to 0 so no epsilon exploration\n",
        "eps_fixed = False\n",
        "\n",
        "t0 = time.time()\n",
        "final_average100, score_per_ep4 = run(frames = 60000, eps_fixed=eps_fixed, eps_frames=5000, min_eps=0.025, game_type=game_type)\n",
        "t1 = time.time()\n",
        "\n",
        "print(\"\\nTraining time: {}min\".format(round((t1-t0)/60,2)))\n",
        "torch.save(agent.qnetwork_local.state_dict(), \"M-DQN-MP\"+\".pth\")"
      ],
      "execution_count": 40,
      "outputs": [
        {
          "output_type": "stream",
          "text": [
            "Using  cpu\n",
            "DDQN(\n",
            "  (head_1): Linear(in_features=128, out_features=256, bias=True)\n",
            "  (ff_1): Linear(in_features=256, out_features=256, bias=True)\n",
            "  (ff_2): Linear(in_features=256, out_features=128, bias=True)\n",
            "  (ff_3): Linear(in_features=128, out_features=18, bias=True)\n",
            ")\n",
            "Episode 77\tFrame 59484 \tAverage Score: 400.26\n",
            "Training time: 12.66min\n"
          ],
          "name": "stdout"
        }
      ]
    },
    {
      "cell_type": "code",
      "metadata": {
        "colab": {
          "base_uri": "https://localhost:8080/"
        },
        "id": "QRaLCYOqHdCN",
        "outputId": "fb3ef3af-5c5f-45b3-9a44-57b01dad4864"
      },
      "source": [
        "writer = SummaryWriter(\"runs/\"+\"M-DQN_AS\")\n",
        "seed = 4\n",
        "BUFFER_SIZE = 100000\n",
        "BATCH_SIZE = 8\n",
        "GAMMA = 0.99\n",
        "TAU = 1e-2\n",
        "LR = 1e-3\n",
        "UPDATE_EVERY = 1\n",
        "lo = -1\n",
        "entropy_tau = 0.03\n",
        "alpha = 0.9\n",
        "device = torch.device(\"cuda:0\" if torch.cuda.is_available() else \"cpu\")\n",
        "game_type = 'Asteroids-ram-v0'\n",
        "# Asteroids-v0, BeamRider-v0, Freeway-v0\n",
        "print(\"Using \", device)\n",
        "\n",
        "\n",
        "\n",
        "\n",
        "np.random.seed(seed)\n",
        "env = gym.make(game_type)\n",
        "\n",
        "env.seed(seed)\n",
        "action_size     = env.action_space.n\n",
        "state_size = env.observation_space.shape\n",
        "\n",
        "agent = M_DQN_Agent(state_size=state_size,    \n",
        "                    action_size=action_size,\n",
        "                    layer_size=256,\n",
        "                    BATCH_SIZE=BATCH_SIZE, \n",
        "                    BUFFER_SIZE=BUFFER_SIZE, \n",
        "                    LR=LR, \n",
        "                    TAU=TAU, \n",
        "                    GAMMA=GAMMA, \n",
        "                    UPDATE_EVERY=UPDATE_EVERY, \n",
        "                    device=device, \n",
        "                    seed=seed)\n",
        "\n",
        "\n",
        "\n",
        "# set epsilon frames to 0 so no epsilon exploration\n",
        "eps_fixed = False\n",
        "\n",
        "t0 = time.time()\n",
        "final_average100, score_per_ep5 = run(frames = 60000, eps_fixed=eps_fixed, eps_frames=5000, min_eps=0.025, game_type=game_type)\n",
        "t1 = time.time()\n",
        "\n",
        "print(\"\\nTraining time: {}min\".format(round((t1-t0)/60,2)))\n",
        "torch.save(agent.qnetwork_local.state_dict(), \"M-DQN-AS\"+\".pth\")"
      ],
      "execution_count": 41,
      "outputs": [
        {
          "output_type": "stream",
          "text": [
            "Using  cpu\n",
            "DDQN(\n",
            "  (head_1): Linear(in_features=128, out_features=256, bias=True)\n",
            "  (ff_1): Linear(in_features=256, out_features=256, bias=True)\n",
            "  (ff_2): Linear(in_features=256, out_features=128, bias=True)\n",
            "  (ff_3): Linear(in_features=128, out_features=14, bias=True)\n",
            ")\n",
            "Episode 78\tFrame 59865 \tAverage Score: 361.54\n",
            "Training time: 12.07min\n"
          ],
          "name": "stdout"
        }
      ]
    },
    {
      "cell_type": "code",
      "metadata": {
        "colab": {
          "base_uri": "https://localhost:8080/",
          "height": 295
        },
        "id": "V4L2KRGeT3X2",
        "outputId": "e2e771f1-8230-430a-cc03-eb19689ccdfb"
      },
      "source": [
        "plt.plot(score_per_ep4)\n",
        "plt.ylabel('Score')\n",
        "plt.xlabel('Episodes')\n",
        "plt.title('M-DQN on Alien')\n",
        "plt.savefig('AlienDQN')"
      ],
      "execution_count": 14,
      "outputs": [
        {
          "output_type": "display_data",
          "data": {
            "image/png": "[encoded data removed]",
            "text/plain": [
              "<Figure size 432x288 with 1 Axes>"
            ]
          },
          "metadata": {
            "tags": [],
            "needs_background": "light"
          }
        }
      ]
    },
    {
      "cell_type": "code",
      "metadata": {
        "colab": {
          "base_uri": "https://localhost:8080/",
          "height": 295
        },
        "id": "fK30s9KlT3hn",
        "outputId": "fa3e06b6-c182-44ad-ad6e-a8cc6c87c459"
      },
      "source": [
        "plt.plot(score_per_ep5)\n",
        "plt.ylabel('Score')\n",
        "plt.xlabel('Episodes')\n",
        "plt.title('M-DQN on Asteroid')\n",
        "plt.savefig('AsteroidDQN')"
      ],
      "execution_count": 15,
      "outputs": [
        {
          "output_type": "display_data",
          "data": {
            "image/png": "[encoded data removed]",
            "text/plain": [
              "<Figure size 432x288 with 1 Axes>"
            ]
          },
          "metadata": {
            "tags": [],
            "needs_background": "light"
          }
        }
      ]
    }
  ]
}